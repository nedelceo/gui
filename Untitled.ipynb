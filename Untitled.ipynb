{
 "cells": [
  {
   "cell_type": "code",
   "execution_count": null,
   "metadata": {},
   "outputs": [],
   "source": [
    "import ipywidgets as widgets\n",
    "\n",
    "import pandas as pd\n",
    "from tkinter import Tk, filedialog\n",
    "from ipywidgets import Button\n",
    "from IPython.display import clear_output, display"
   ]
  },
  {
   "cell_type": "markdown",
   "metadata": {},
   "source": [
    "## Nahrát data"
   ]
  },
  {
   "cell_type": "code",
   "execution_count": null,
   "metadata": {},
   "outputs": [],
   "source": [
    "# #wait for data load --- https://ipywidgets.readthedocs.io/en/stable/examples/Widget%20Asynchronous.html\n",
    "# %gui asyncio\n",
    "# import asyncio\n",
    "# def wait_for_change(widget, value):\n",
    "#     future = asyncio.Future()\n",
    "#     def getvalue(change):\n",
    "#         # make the new value available\n",
    "#         future.set_result(change.new)\n",
    "#         widget.unobserve(getvalue, value)\n",
    "#     widget.observe(getvalue, value)\n",
    "#     return future\n"
   ]
  },
  {
   "cell_type": "code",
   "execution_count": null,
   "metadata": {},
   "outputs": [],
   "source": [
    "from ipywidgets import Button\n",
    "from tkinter import Tk, filedialog\n",
    "from IPython.display import clear_output, display\n",
    "output = widgets.Output()\n",
    "@output.capture(clear_output=False,wait=True) \n",
    "def select_files(b):\n",
    "    clear_output()\n",
    "    root = Tk()\n",
    "    root.withdraw() # Hide the main window.\n",
    "    root.call('wm', 'attributes', '.', '-topmost', True) # Raise the root to the top of all windows.\n",
    "    b.files = filedialog.askopenfilename(multiple=False) # List of selected files will be set button's file attribute.\n",
    "    print(b.files) # Print the list of files selected.\n",
    "\n",
    "    df= pd.read_csv(b.files,sep='\\t')\n",
    "    from ipywidgets import interact, interact_manual\n",
    "    @interact\n",
    "    def show_articles_more_than(column=list(df.select_dtypes('number').columns), x=5000):\n",
    "        return df.loc[df[column] > x]\n",
    "\n",
    "    \n",
    "    \n",
    "    \n",
    "    \n",
    "fileselect = Button(description=\"File select\")\n",
    "fileselect.on_click(select_files)\n",
    "\n",
    "display(fileselect)\n",
    "output\n"
   ]
  },
  {
   "cell_type": "code",
   "execution_count": null,
   "metadata": {},
   "outputs": [],
   "source": []
  }
 ],
 "metadata": {
  "kernelspec": {
   "display_name": "Python 3",
   "language": "python",
   "name": "python3"
  },
  "language_info": {
   "codemirror_mode": {
    "name": "ipython",
    "version": 3
   },
   "file_extension": ".py",
   "mimetype": "text/x-python",
   "name": "python",
   "nbconvert_exporter": "python",
   "pygments_lexer": "ipython3",
   "version": "3.7.6"
  }
 },
 "nbformat": 4,
 "nbformat_minor": 4
}
