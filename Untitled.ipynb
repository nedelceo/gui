{
 "cells": [
  {
   "cell_type": "code",
   "execution_count": 2,
   "metadata": {},
   "outputs": [],
   "source": [
    "import ipywidgets as widgets\n",
    "from IPython.display import HTML\n",
    "import pandas as pd\n",
    "from tkinter import Tk, filedialog\n",
    "from ipywidgets import Button"
   ]
  },
  {
   "cell_type": "markdown",
   "metadata": {},
   "source": [
    "## Nahrát data"
   ]
  },
  {
   "cell_type": "code",
   "execution_count": 12,
   "metadata": {},
   "outputs": [],
   "source": [
    "# #wait for data load --- https://ipywidgets.readthedocs.io/en/stable/examples/Widget%20Asynchronous.html\n",
    "# %gui asyncio\n",
    "# import asyncio\n",
    "# def wait_for_change(widget, value):\n",
    "#     future = asyncio.Future()\n",
    "#     def getvalue(change):\n",
    "#         # make the new value available\n",
    "#         future.set_result(change.new)\n",
    "#         widget.unobserve(getvalue, value)\n",
    "#     widget.observe(getvalue, value)\n",
    "#     return future\n"
   ]
  },
  {
   "cell_type": "code",
   "execution_count": 9,
   "metadata": {},
   "outputs": [
    {
     "name": "stdout",
     "output_type": "stream",
     "text": [
      "C:/GA_best1.txt\n"
     ]
    }
   ],
   "source": [
    "\n",
    "\n",
    "from IPython.display import clear_output, display\n",
    "\n",
    "def select_files(b):\n",
    "    clear_output()\n",
    "    root = Tk()\n",
    "    root.withdraw() # Hide the main window.\n",
    "    root.call('wm', 'attributes', '.', '-topmost', True) # Raise the root to the top of all windows.\n",
    "    b.files = filedialog.askopenfilename(multiple=False) # List of selected files will be set button's file attribute.\n",
    "    print(b.files) # Print the list of files selected.\n",
    "    files = fileselect.files\n",
    "    df= pd.read_csv(files,sep='\\t')\n",
    "    \n",
    "fileselect = Button(description=\"File select\")\n",
    "fileselect.on_click(select_files)\n",
    "\n",
    "display(fileselect)\n"
   ]
  },
  {
   "cell_type": "code",
   "execution_count": 17,
   "metadata": {},
   "outputs": [
    {
     "data": {
      "text/plain": [
       "<Task pending coro=<f() running at <ipython-input-17-e2d4c54e8cf6>:1>>"
      ]
     },
     "execution_count": 17,
     "metadata": {},
     "output_type": "execute_result"
    },
    {
     "name": "stdout",
     "output_type": "stream",
     "text": [
      "did work 0\n"
     ]
    }
   ],
   "source": [
    "# async def f():\n",
    "#     for i in range(10):\n",
    "#         print('did work %s'%i)\n",
    "#         x = await wait_for_change(fileselect, 'value')\n",
    "#         print('async function continued with value %s'%x)\n",
    "        \n",
    "# asyncio.ensure_future(f())"
   ]
  },
  {
   "cell_type": "markdown",
   "metadata": {},
   "source": [
    "## aa"
   ]
  },
  {
   "cell_type": "code",
   "execution_count": 15,
   "metadata": {},
   "outputs": [
    {
     "data": {
      "application/vnd.jupyter.widget-view+json": {
       "model_id": "493fe8f8b38a45e098884175ce800838",
       "version_major": 2,
       "version_minor": 0
      },
      "text/plain": [
       "interactive(children=(Dropdown(description='column', options=('Runs done', 'Reff', 'KGE', 'R2', 'LogReff', 'Fl…"
      ]
     },
     "metadata": {},
     "output_type": "display_data"
    }
   ],
   "source": [
    "\n",
    "# from ipywidgets import interact, interact_manual\n",
    "# @interact\n",
    "# def show_articles_more_than(column=list(df.select_dtypes('number').columns), x=5000):\n",
    "#     return df.loc[df[column] > x]"
   ]
  },
  {
   "cell_type": "code",
   "execution_count": 70,
   "metadata": {},
   "outputs": [
    {
     "name": "stdout",
     "output_type": "stream",
     "text": [
      "('C:/Users/Nedelcev/phd/repositories/snow_variability/quick_start.py',)\n"
     ]
    }
   ],
   "source": []
  },
  {
   "cell_type": "code",
   "execution_count": 71,
   "metadata": {},
   "outputs": [
    {
     "name": "stdout",
     "output_type": "stream",
     "text": [
      "The first file name is:  C:/Users/Nedelcev/phd/repositories/snow_variability/quick_start.py\n"
     ]
    }
   ],
   "source": [
    "\n"
   ]
  },
  {
   "cell_type": "code",
   "execution_count": null,
   "metadata": {},
   "outputs": [],
   "source": []
  }
 ],
 "metadata": {
  "kernelspec": {
   "display_name": "Python 3",
   "language": "python",
   "name": "python3"
  },
  "language_info": {
   "codemirror_mode": {
    "name": "ipython",
    "version": 3
   },
   "file_extension": ".py",
   "mimetype": "text/x-python",
   "name": "python",
   "nbconvert_exporter": "python",
   "pygments_lexer": "ipython3",
   "version": "3.7.6"
  }
 },
 "nbformat": 4,
 "nbformat_minor": 4
}
